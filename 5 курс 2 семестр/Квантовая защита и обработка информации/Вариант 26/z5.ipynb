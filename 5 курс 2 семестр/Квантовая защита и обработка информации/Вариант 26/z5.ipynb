{
 "cells": [
  {
   "cell_type": "code",
   "execution_count": 125,
   "metadata": {},
   "outputs": [],
   "source": [
    "import numpy as np\n",
    "constant = 1/np.sqrt(2)\n",
    "\n",
    "H = np.matrix([\n",
    "                [1, 1],\n",
    "                [1,-1]\n",
    "])\n",
    "\n",
    "CNOT = np.matrix([\n",
    "                [1, 0, 0, 0],\n",
    "                [0, 1, 0, 0],\n",
    "                [0, 0, 0, 1],\n",
    "                [0, 0, 1, 0]\n",
    "])\n",
    "\n",
    "NOT = np.matrix([\n",
    "                [0, 1],\n",
    "                [1, 0]\n",
    "])\n",
    "\n",
    "I = np.matrix([\n",
    "                [1, 0],\n",
    "                [0, 1]\n",
    "])"
   ]
  },
  {
   "cell_type": "code",
   "execution_count": 126,
   "metadata": {},
   "outputs": [
    {
     "data": {
      "text/plain": [
       "(0.7071067811865476-0.7071067811865475j)"
      ]
     },
     "execution_count": 126,
     "metadata": {},
     "output_type": "execute_result"
    }
   ],
   "source": [
    "w = np.exp(-2*np.pi*1j/8);w"
   ]
  },
  {
   "cell_type": "code",
   "execution_count": 127,
   "metadata": {},
   "outputs": [],
   "source": [
    "F_8 = np.matrix([\n",
    "    [1, 1   , 1   , 1   , 1   , 1   , 1   , 1   ],\n",
    "    [1, w   , w**2, w**3, w**4, w**5, w**6, w**7],\n",
    "    [1, w**2, w**4, w**6, 1   , w**2, w**4, w**6],\n",
    "    [1, w**3, w**6, w   , w**4, w**7, w**2, w**5],\n",
    "    [1, w**4, 1,    w**4, 1   , w**4, 1   , w**4],\n",
    "    [1, w**5, w**2, w**7, w**4, w   , w**6, w**3],\n",
    "    [1, w**6, w**4, w**2, 1   , w**6, w**4, w**2],\n",
    "    [1, w**7, w**6, w**5, w**4, w**3, w**2, w   ],\n",
    "])\n",
    "\n",
    "# F_8 = np.matrix([\n",
    "#     [1, 1   , 1   , 1   , 1   , 1   , 1   , 1   ],\n",
    "#     [1, w   , 1j, 1j*w, -1, -w, -1j, -1j*w],\n",
    "#     [1, 1j, -1, -1j, 1   , 1j, -1, -1j],\n",
    "#     [1, 1j*w, -1j, w   , -1, -1j*w, 1j, -w],\n",
    "#     [1, -1, 1,    -1, 1   , -1, 1   , -1],\n",
    "#     [1, -w, 1j, -1j*w, -1, w   , -1j, 1j*w],\n",
    "#     [1, -1j, -1, 1j, 1   , -1j, -1, 1j],\n",
    "#     [1, -1j*w, -1j, -w, -1, 1j*w, 1j, w   ],\n",
    "# ])"
   ]
  },
  {
   "cell_type": "code",
   "execution_count": 128,
   "metadata": {},
   "outputs": [],
   "source": [
    "w_in = [0, 0, 1, 0, 0, 0, 0, 0]"
   ]
  },
  {
   "cell_type": "code",
   "execution_count": 129,
   "metadata": {},
   "outputs": [
    {
     "name": "stdout",
     "output_type": "stream",
     "text": [
      "(1+0j)\n",
      "(2.220446049250313e-16-1j)\n",
      "(-1-4.440892098500626e-16j)\n",
      "(-6.661338147750939e-16+1j)\n",
      "(1+0j)\n",
      "(2.220446049250313e-16-1j)\n",
      "(-1-4.440892098500626e-16j)\n",
      "(-6.661338147750939e-16+1j)\n"
     ]
    }
   ],
   "source": [
    "res = w_in*F_8\n",
    "res = res.transpose()\n",
    "for i in res:\n",
    "    print(i[0,0])"
   ]
  },
  {
   "cell_type": "code",
   "execution_count": 130,
   "metadata": {},
   "outputs": [
    {
     "name": "stdout",
     "output_type": "stream",
     "text": [
      "0 :  (1+0j)\n",
      "1 :  (0.7071067811865476-0.7071067811865475j)\n",
      "2 :  (2.220446049250313e-16-1j)\n",
      "3 :  (-0.7071067811865474-0.7071067811865477j)\n",
      "4 :  (-1-4.440892098500626e-16j)\n",
      "5 :  (-0.7071067811865479+0.7071067811865471j)\n",
      "6 :  (-6.661338147750939e-16+1j)\n",
      "7 :  (0.707106781186547+0.707106781186548j)\n"
     ]
    }
   ],
   "source": [
    "for i in range(8):\n",
    "    print(i, ': ', w**i)"
   ]
  },
  {
   "cell_type": "code",
   "execution_count": 131,
   "metadata": {},
   "outputs": [
    {
     "data": {
      "text/plain": [
       "(-6.661338147750939e-16+1j)"
      ]
     },
     "execution_count": 131,
     "metadata": {},
     "output_type": "execute_result"
    }
   ],
   "source": [
    "1\n",
    "w**2\n",
    "w**4\n",
    "w**6\n",
    "1\n",
    "w**2\n",
    "w**4\n",
    "w**6"
   ]
  },
  {
   "cell_type": "code",
   "execution_count": 132,
   "metadata": {},
   "outputs": [
    {
     "data": {
      "text/plain": [
       "(-1+1.2246467991473532e-16j)"
      ]
     },
     "execution_count": 132,
     "metadata": {},
     "output_type": "execute_result"
    }
   ],
   "source": [
    "np.exp(np.pi*1j)"
   ]
  }
 ],
 "metadata": {
  "kernelspec": {
   "display_name": "Python 3",
   "language": "python",
   "name": "python3"
  },
  "language_info": {
   "codemirror_mode": {
    "name": "ipython",
    "version": 3
   },
   "file_extension": ".py",
   "mimetype": "text/x-python",
   "name": "python",
   "nbconvert_exporter": "python",
   "pygments_lexer": "ipython3",
   "version": "3.11.7"
  }
 },
 "nbformat": 4,
 "nbformat_minor": 2
}
