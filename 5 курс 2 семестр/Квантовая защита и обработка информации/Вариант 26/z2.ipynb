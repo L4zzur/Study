{
 "cells": [
  {
   "cell_type": "code",
   "execution_count": 19,
   "metadata": {},
   "outputs": [],
   "source": [
    "import numpy as np\n",
    "qubit = np.array([1 / np.sqrt(2) + 0j, 1 / np.sqrt(2) + 0j]).reshape((2, 1))"
   ]
  },
  {
   "cell_type": "code",
   "execution_count": 20,
   "metadata": {},
   "outputs": [
    {
     "name": "stdout",
     "output_type": "stream",
     "text": [
      "[[0.70710678+0.j]\n",
      " [0.70710678+0.j]]\n"
     ]
    }
   ],
   "source": [
    "print(qubit)"
   ]
  },
  {
   "cell_type": "code",
   "execution_count": 21,
   "metadata": {},
   "outputs": [],
   "source": [
    "c0 = c1 = 1 / np.sqrt(2) + 0j\n",
    "p0 = np.conj(c0) * c0\n",
    "p1 = np.conj(c1) * c1"
   ]
  },
  {
   "cell_type": "code",
   "execution_count": 22,
   "metadata": {},
   "outputs": [
    {
     "name": "stdout",
     "output_type": "stream",
     "text": [
      "[[1 0]\n",
      " [0 1]]\n",
      "[[1.+1.j 1.-1.j]\n",
      " [1.-1.j 1.+1.j]]\n",
      "[[1 0 0 0]\n",
      " [0 1 0 0]\n",
      " [0 0 0 1]\n",
      " [0 0 1 0]]\n"
     ]
    }
   ],
   "source": [
    "I = np.matrix([\n",
    "                [1, 0],\n",
    "                [0, 1]\n",
    "])\n",
    "\n",
    "RN = np.matrix([\n",
    "                [1+1j, 1-1j],\n",
    "                [1-1j, 1+1j]\n",
    "])\n",
    "CNOT = np.matrix([\n",
    "                [1, 0, 0, 0],\n",
    "                [0, 1, 0, 0],\n",
    "                [0, 0, 0, 1],\n",
    "                [0, 0, 1, 0]\n",
    "])\n",
    "print(I)\n",
    "print(RN)\n",
    "print(CNOT)"
   ]
  },
  {
   "cell_type": "code",
   "execution_count": 23,
   "metadata": {},
   "outputs": [],
   "source": [
    "I_RN = np.tensordot(I, RN, 0)\n",
    "I_RN = I_RN.transpose((0,2,1,3)).reshape((4,4))\n",
    "# print(I_RN)"
   ]
  },
  {
   "cell_type": "code",
   "execution_count": 24,
   "metadata": {},
   "outputs": [
    {
     "name": "stdout",
     "output_type": "stream",
     "text": [
      "[[1.+1.j 1.-1.j 0.+0.j 0.+0.j]\n",
      " [1.-1.j 1.+1.j 0.+0.j 0.+0.j]\n",
      " [0.+0.j 0.+0.j 1.-1.j 1.+1.j]\n",
      " [0.+0.j 0.+0.j 1.+1.j 1.-1.j]]\n"
     ]
    }
   ],
   "source": [
    "res = I_RN*CNOT\n",
    "print(res)"
   ]
  },
  {
   "cell_type": "code",
   "execution_count": 25,
   "metadata": {},
   "outputs": [],
   "source": [
    "I_RN1 = np.tensordot(I, RN, 0)\n",
    "I_RN1 = I_RN1.transpose((0,2,1,3)).reshape((4,4))\n",
    "# print(I_RN1)"
   ]
  },
  {
   "cell_type": "code",
   "execution_count": 26,
   "metadata": {},
   "outputs": [
    {
     "name": "stdout",
     "output_type": "stream",
     "text": [
      "[[1.+1.j 1.-1.j 0.+0.j 0.+0.j]\n",
      " [1.-1.j 1.+1.j 0.+0.j 0.+0.j]\n",
      " [0.+0.j 0.+0.j 1.-1.j 1.+1.j]\n",
      " [0.+0.j 0.+0.j 1.+1.j 1.-1.j]]\n"
     ]
    }
   ],
   "source": [
    "res1 = CNOT*I_RN1\n",
    "print(res1)"
   ]
  },
  {
   "cell_type": "code",
   "execution_count": 27,
   "metadata": {},
   "outputs": [
    {
     "data": {
      "text/plain": [
       "matrix([[ True,  True,  True,  True],\n",
       "        [ True,  True,  True,  True],\n",
       "        [ True,  True,  True,  True],\n",
       "        [ True,  True,  True,  True]])"
      ]
     },
     "execution_count": 27,
     "metadata": {},
     "output_type": "execute_result"
    }
   ],
   "source": [
    "res==res1"
   ]
  }
 ],
 "metadata": {
  "kernelspec": {
   "display_name": "Python 3",
   "language": "python",
   "name": "python3"
  },
  "language_info": {
   "codemirror_mode": {
    "name": "ipython",
    "version": 3
   },
   "file_extension": ".py",
   "mimetype": "text/x-python",
   "name": "python",
   "nbconvert_exporter": "python",
   "pygments_lexer": "ipython3",
   "version": "3.11.7"
  }
 },
 "nbformat": 4,
 "nbformat_minor": 2
}
