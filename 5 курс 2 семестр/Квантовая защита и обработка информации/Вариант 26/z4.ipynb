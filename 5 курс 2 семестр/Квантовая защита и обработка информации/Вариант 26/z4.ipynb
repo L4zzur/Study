{
 "cells": [
  {
   "cell_type": "code",
   "execution_count": 4,
   "metadata": {},
   "outputs": [],
   "source": [
    "import numpy as np\n",
    "constant = 1/np.sqrt(2)\n",
    "\n",
    "H = np.matrix([\n",
    "                [1, 1],\n",
    "                [1,-1]\n",
    "])\n",
    "\n",
    "CNOT = np.matrix([\n",
    "                [1, 0, 0, 0],\n",
    "                [0, 1, 0, 0],\n",
    "                [0, 0, 0, 1],\n",
    "                [0, 0, 1, 0]\n",
    "])\n",
    "\n",
    "NOT = np.matrix([\n",
    "                [0, 1],\n",
    "                [1, 0]\n",
    "])\n",
    "\n",
    "I = np.matrix([\n",
    "                [1, 0],\n",
    "                [0, 1]\n",
    "])"
   ]
  },
  {
   "cell_type": "code",
   "execution_count": 5,
   "metadata": {},
   "outputs": [
    {
     "name": "stdout",
     "output_type": "stream",
     "text": [
      "[[ 1  0  1  0]\n",
      " [ 0  1  0  1]\n",
      " [ 1  0 -1  0]\n",
      " [ 0  1  0 -1]]\n"
     ]
    }
   ],
   "source": [
    "gadget1 = np.tensordot(H, I, 0)\n",
    "gadget1 = gadget1.transpose((0,2,1,3)).reshape((4,4))\n",
    "print(gadget1)"
   ]
  },
  {
   "cell_type": "code",
   "execution_count": 6,
   "metadata": {},
   "outputs": [
    {
     "name": "stdout",
     "output_type": "stream",
     "text": [
      "[[ 1  0  0  1]\n",
      " [ 0  1  1  0]\n",
      " [ 1  0  0 -1]\n",
      " [ 0  1 -1  0]]\n"
     ]
    }
   ],
   "source": [
    "gadget2 = gadget1 * CNOT\n",
    "print(gadget2)"
   ]
  },
  {
   "cell_type": "code",
   "execution_count": 7,
   "metadata": {},
   "outputs": [
    {
     "data": {
      "text/plain": [
       "matrix([[1, 0, 0, 1]])"
      ]
     },
     "execution_count": 7,
     "metadata": {},
     "output_type": "execute_result"
    }
   ],
   "source": [
    "[1,0,0,0]*gadget2"
   ]
  }
 ],
 "metadata": {
  "kernelspec": {
   "display_name": "Python 3",
   "language": "python",
   "name": "python3"
  },
  "language_info": {
   "codemirror_mode": {
    "name": "ipython",
    "version": 3
   },
   "file_extension": ".py",
   "mimetype": "text/x-python",
   "name": "python",
   "nbconvert_exporter": "python",
   "pygments_lexer": "ipython3",
   "version": "3.11.7"
  }
 },
 "nbformat": 4,
 "nbformat_minor": 2
}
