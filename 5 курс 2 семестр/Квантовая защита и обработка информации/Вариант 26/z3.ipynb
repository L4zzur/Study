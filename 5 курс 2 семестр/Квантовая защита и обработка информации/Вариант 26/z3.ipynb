{
 "cells": [
  {
   "cell_type": "code",
   "execution_count": 45,
   "metadata": {},
   "outputs": [],
   "source": [
    "import numpy as np\n",
    "constant = 1/np.sqrt(2)\n",
    "\n",
    "H = np.matrix([\n",
    "                [1, 1],\n",
    "                [1,-1]\n",
    "])\n",
    "\n",
    "CNOT = np.matrix([\n",
    "                [1, 0, 0, 0],\n",
    "                [0, 1, 0, 0],\n",
    "                [0, 0, 0, 1],\n",
    "                [0, 0, 1, 0]\n",
    "])\n",
    "\n",
    "NOT = np.matrix([\n",
    "                [0, 1],\n",
    "                [1, 0]\n",
    "])\n",
    "\n",
    "I = np.matrix([\n",
    "                [1, 0],\n",
    "                [0, 1]\n",
    "])"
   ]
  },
  {
   "cell_type": "code",
   "execution_count": 46,
   "metadata": {},
   "outputs": [
    {
     "name": "stdout",
     "output_type": "stream",
     "text": [
      "[[ 1  0  1  0]\n",
      " [ 0  1  0  1]\n",
      " [ 1  0 -1  0]\n",
      " [ 0  1  0 -1]]\n"
     ]
    }
   ],
   "source": [
    "gadget1 = np.tensordot(H, I, 0)\n",
    "gadget1 = gadget1.transpose((0,2,1,3)).reshape((4,4))\n",
    "print(gadget1)"
   ]
  },
  {
   "cell_type": "code",
   "execution_count": 47,
   "metadata": {},
   "outputs": [
    {
     "name": "stdout",
     "output_type": "stream",
     "text": [
      "[[ 1  0  0  1]\n",
      " [ 0  1  1  0]\n",
      " [ 1  0  0 -1]\n",
      " [ 0  1 -1  0]]\n"
     ]
    }
   ],
   "source": [
    "gadget12 = gadget1*CNOT\n",
    "print(gadget12)"
   ]
  },
  {
   "cell_type": "code",
   "execution_count": 48,
   "metadata": {},
   "outputs": [
    {
     "name": "stdout",
     "output_type": "stream",
     "text": [
      "[[ 1  1  1 -1]\n",
      " [ 1  1 -1  1]\n",
      " [ 1 -1  1  1]\n",
      " [-1  1  1  1]]\n"
     ]
    }
   ],
   "source": [
    "res = gadget12*gadget1\n",
    "print(res)"
   ]
  },
  {
   "cell_type": "code",
   "execution_count": 49,
   "metadata": {},
   "outputs": [
    {
     "data": {
      "text/plain": [
       "matrix([[ 1,  1,  1, -1]])"
      ]
     },
     "execution_count": 49,
     "metadata": {},
     "output_type": "execute_result"
    }
   ],
   "source": [
    "[1,0,0,0]*res"
   ]
  },
  {
   "cell_type": "code",
   "execution_count": 50,
   "metadata": {},
   "outputs": [
    {
     "data": {
      "text/plain": [
       "matrix([[ 1],\n",
       "        [ 1],\n",
       "        [ 1],\n",
       "        [-1]])"
      ]
     },
     "execution_count": 50,
     "metadata": {},
     "output_type": "execute_result"
    }
   ],
   "source": [
    "res*np.matrix([1,0,0,0]).transpose()"
   ]
  },
  {
   "cell_type": "code",
   "execution_count": 51,
   "metadata": {},
   "outputs": [
    {
     "data": {
      "text/plain": [
       "array([[1, 0, 0, 0],\n",
       "       [0, 0, 0, 0],\n",
       "       [1, 0, 0, 0],\n",
       "       [0, 0, 0, 0]])"
      ]
     },
     "execution_count": 51,
     "metadata": {},
     "output_type": "execute_result"
    }
   ],
   "source": [
    "[1,0,0,0]*gadget1"
   ]
  },
  {
   "cell_type": "code",
   "execution_count": 52,
   "metadata": {},
   "outputs": [
    {
     "data": {
      "text/plain": [
       "matrix([[1],\n",
       "        [0],\n",
       "        [1],\n",
       "        [0]])"
      ]
     },
     "execution_count": 52,
     "metadata": {},
     "output_type": "execute_result"
    }
   ],
   "source": [
    "gadget12*np.matrix([1,0,0,0]).transpose()"
   ]
  },
  {
   "cell_type": "code",
   "execution_count": 53,
   "metadata": {},
   "outputs": [
    {
     "data": {
      "text/plain": [
       "matrix([[1, 0, 0, 1]])"
      ]
     },
     "execution_count": 53,
     "metadata": {},
     "output_type": "execute_result"
    }
   ],
   "source": [
    "[1,0,0,0]*gadget12"
   ]
  }
 ],
 "metadata": {
  "kernelspec": {
   "display_name": "Python 3",
   "language": "python",
   "name": "python3"
  },
  "language_info": {
   "codemirror_mode": {
    "name": "ipython",
    "version": 3
   },
   "file_extension": ".py",
   "mimetype": "text/x-python",
   "name": "python",
   "nbconvert_exporter": "python",
   "pygments_lexer": "ipython3",
   "version": "3.11.7"
  }
 },
 "nbformat": 4,
 "nbformat_minor": 2
}
